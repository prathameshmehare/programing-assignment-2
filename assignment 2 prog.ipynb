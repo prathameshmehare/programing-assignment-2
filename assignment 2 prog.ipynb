{
 "cells": [
  {
   "cell_type": "code",
   "execution_count": 1,
   "id": "7160a51d",
   "metadata": {},
   "outputs": [
    {
     "name": "stdout",
     "output_type": "stream",
     "text": [
      "enter the value of kilometers = 2\n",
      "the value of kilometer in miles is = 1.242742\n"
     ]
    }
   ],
   "source": [
    "# program converting kilometers intp miles\n",
    "kilometer = float(input(\"enter the value of kilometers = \"))\n",
    "\n",
    "constant  = 0.621371\n",
    "miles = kilometer * constant\n",
    "\n",
    "print(\"the value of kilometer in miles is = {}\".format(miles))"
   ]
  },
  {
   "cell_type": "code",
   "execution_count": 2,
   "id": "2e649116",
   "metadata": {},
   "outputs": [
    {
     "name": "stdout",
     "output_type": "stream",
     "text": [
      "enter the value of celsius = 12\n",
      "the value of celsius in fahrenheit is = 53.6\n"
     ]
    }
   ],
   "source": [
    "#program to convert celsius to fahrenheit\n",
    "celsius = float(input(\"enter the value of celsius = \"))\n",
    "fahrenheit = celsius *9/5 + 32\n",
    "print(\"the value of celsius in fahrenheit is = {}\".format(fahrenheit))"
   ]
  },
  {
   "cell_type": "code",
   "execution_count": null,
   "id": "c44665b7",
   "metadata": {},
   "outputs": [],
   "source": [
    "#program to display calender\n",
    "import calendar\n",
    "yy = 2014\n",
    "mm = 14\n",
    "yy = int(input(\"enter year :\"))\n",
    "mm = int(input(\"enter month\"))\n",
    "print(calendar.month(yy,mm))"
   ]
  },
  {
   "cell_type": "code",
   "execution_count": 18,
   "id": "63dc4c1b",
   "metadata": {},
   "outputs": [
    {
     "name": "stdout",
     "output_type": "stream",
     "text": [
      "the solution are (-5.5+0j) and -4.5\n"
     ]
    }
   ],
   "source": [
    "#program to solve quadractic equation ax**2 + bx +c = 0\n",
    "import cmath\n",
    "\n",
    " \n",
    "a = 1\n",
    "b = 5\n",
    "c = 6\n",
    "\n",
    "d = (b**2) - (4*a*c)\n",
    "\n",
    "sol1 = (-b-cmath.sqrt(d)/(2*a))\n",
    "sol2 = (-b+cmath.sqrt(d)/(2*a))\n",
    "\n",
    "print('the solution are {0} and {1}'.format(sol1,sol2))"
   ]
  },
  {
   "cell_type": "code",
   "execution_count": 53,
   "id": "eadf1ecc",
   "metadata": {},
   "outputs": [],
   "source": [
    "import math\n",
    "\n",
    "def equationroots(a,b,c):\n",
    "    dis = b*b -4*a*c \n",
    "    sqrt_value = math.sqrt(abs(dis))\n",
    "    if dis > 0:\n",
    "        print(\"real and different roots\")\n",
    "        print((-b + sqrt_value)/(2*a))\n",
    "        print((-b - sqrt_value)/(2*a))\n",
    "    elif dis == 0:\n",
    "        print(\"real and same roots\")\n",
    "        print((-b / 2*a))\n",
    "    else:\n",
    "        print(\"complex roots\")\n",
    "        print(-b / (2*a),\" + i\",sqrt_value)\n",
    "        print(-b / (2*a),\" -i\",sqrt_value)"
   ]
  },
  {
   "cell_type": "code",
   "execution_count": 54,
   "id": "57a2358a",
   "metadata": {},
   "outputs": [
    {
     "name": "stdout",
     "output_type": "stream",
     "text": [
      "complex roots\n",
      "-0.625  + i 8.426149773176359\n",
      "-0.625  -i 8.426149773176359\n"
     ]
    }
   ],
   "source": [
    "equationroots(4,5,6)"
   ]
  },
  {
   "cell_type": "code",
   "execution_count": 34,
   "id": "917c278a",
   "metadata": {},
   "outputs": [
    {
     "name": "stdout",
     "output_type": "stream",
     "text": [
      "values before swaping:\n",
      "values of x :  5 and y : 10\n",
      "after swaping :\n",
      "value of x :  10 and y : 5\n"
     ]
    }
   ],
   "source": [
    "#swap two values without using temp variable \n",
    "x = 5\n",
    "y = 10\n",
    "print(\"values before swaping:\")\n",
    "print(\"values of x : \",x, \"and y :\",y)\n",
    "x,y = y,x\n",
    "print(\"after swaping :\")\n",
    "print(\"value of x : \",x, \"and y :\",y)"
   ]
  },
  {
   "cell_type": "code",
   "execution_count": 49,
   "id": "1b7cef1a",
   "metadata": {},
   "outputs": [],
   "source": [
    "import math\n",
    "\n",
    "def equationroots(a,b,c):\n",
    "    dis = b*b -4*a*c \n",
    "    print(a,b,c)"
   ]
  },
  {
   "cell_type": "code",
   "execution_count": 50,
   "id": "d4167581",
   "metadata": {},
   "outputs": [
    {
     "name": "stdout",
     "output_type": "stream",
     "text": [
      "1 23 5\n"
     ]
    }
   ],
   "source": [
    "equationroots(1,23,5)"
   ]
  },
  {
   "cell_type": "code",
   "execution_count": null,
   "id": "754490b4",
   "metadata": {},
   "outputs": [],
   "source": []
  },
  {
   "cell_type": "code",
   "execution_count": null,
   "id": "98ac72f3",
   "metadata": {},
   "outputs": [],
   "source": []
  }
 ],
 "metadata": {
  "kernelspec": {
   "display_name": "Python 3 (ipykernel)",
   "language": "python",
   "name": "python3"
  },
  "language_info": {
   "codemirror_mode": {
    "name": "ipython",
    "version": 3
   },
   "file_extension": ".py",
   "mimetype": "text/x-python",
   "name": "python",
   "nbconvert_exporter": "python",
   "pygments_lexer": "ipython3",
   "version": "3.9.7"
  }
 },
 "nbformat": 4,
 "nbformat_minor": 5
}
